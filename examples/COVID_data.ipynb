{
 "cells": [
  {
   "cell_type": "code",
   "execution_count": 1,
   "id": "a9627c44-9693-4c2d-9a2b-a36711826ed3",
   "metadata": {},
   "outputs": [],
   "source": [
    "import scanpy as sc\n",
    "# Successful preprocessing for running 0.constructPPI.py rank = true"
   ]
  },
  {
   "cell_type": "code",
   "execution_count": 2,
   "id": "21e68940-5b7b-4391-8829-c386b486369c",
   "metadata": {},
   "outputs": [],
   "source": [
    "adata = sc.read_h5ad(\"/nobackup/archive/grp/fslg_dnasc/COVID_DATA/covid_portal_210320_with_raw.h5ad\")"
   ]
  },
  {
   "cell_type": "code",
   "execution_count": 3,
   "id": "e27b87bb-adca-4aa7-9e9f-c27c9b2b624e",
   "metadata": {},
   "outputs": [
    {
     "data": {
      "text/plain": [
       "AnnData object with n_obs × n_vars = 647366 × 24929\n",
       "    obs: 'sample_id', 'n_genes', 'n_genes_by_counts', 'total_counts', 'total_counts_mt', 'pct_counts_mt', 'full_clustering', 'initial_clustering', 'Resample', 'Collection_Day', 'Sex', 'Age_interval', 'Swab_result', 'Status', 'Smoker', 'Status_on_day_collection', 'Status_on_day_collection_summary', 'Days_from_onset', 'Site', 'time_after_LPS', 'Worst_Clinical_Status', 'Outcome', 'patient_id'\n",
       "    var: 'feature_types'\n",
       "    uns: 'hvg', 'leiden', 'neighbors', 'pca', 'umap'\n",
       "    obsm: 'X_pca', 'X_pca_harmony', 'X_umap'\n",
       "    layers: 'raw'"
      ]
     },
     "execution_count": 3,
     "metadata": {},
     "output_type": "execute_result"
    }
   ],
   "source": [
    "adata"
   ]
  },
  {
   "cell_type": "code",
   "execution_count": 4,
   "id": "a6cec4eb-b5d9-498f-9967-ee62feb1cf43",
   "metadata": {},
   "outputs": [],
   "source": [
    "adata_subset = adata[:10000, :]"
   ]
  },
  {
   "cell_type": "code",
   "execution_count": 5,
   "id": "7a1e47da-4488-48d0-85f2-6a0ecfb898a2",
   "metadata": {},
   "outputs": [
    {
     "data": {
      "text/plain": [
       "View of AnnData object with n_obs × n_vars = 10000 × 24929\n",
       "    obs: 'sample_id', 'n_genes', 'n_genes_by_counts', 'total_counts', 'total_counts_mt', 'pct_counts_mt', 'full_clustering', 'initial_clustering', 'Resample', 'Collection_Day', 'Sex', 'Age_interval', 'Swab_result', 'Status', 'Smoker', 'Status_on_day_collection', 'Status_on_day_collection_summary', 'Days_from_onset', 'Site', 'time_after_LPS', 'Worst_Clinical_Status', 'Outcome', 'patient_id'\n",
       "    var: 'feature_types'\n",
       "    uns: 'hvg', 'leiden', 'neighbors', 'pca', 'umap'\n",
       "    obsm: 'X_pca', 'X_pca_harmony', 'X_umap'\n",
       "    layers: 'raw'"
      ]
     },
     "execution_count": 5,
     "metadata": {},
     "output_type": "execute_result"
    }
   ],
   "source": [
    "adata_subset"
   ]
  },
  {
   "cell_type": "code",
   "execution_count": 6,
   "id": "b6ce10d0-8e20-4dd9-8a67-a9cdea05603c",
   "metadata": {},
   "outputs": [],
   "source": [
    "adata_subset.obs.rename(columns={\"full_clustering\": \"cell_ontology_class\"}, inplace=True)"
   ]
  },
  {
   "cell_type": "code",
   "execution_count": 7,
   "id": "ac2df2a2-aef5-48e2-a0c3-f8627f127732",
   "metadata": {},
   "outputs": [
    {
     "name": "stderr",
     "output_type": "stream",
     "text": [
      "/tmp/ipykernel_4134208/4042009112.py:1: ImplicitModificationWarning: Trying to modify attribute `.obs` of view, initializing view as actual.\n",
      "  adata_subset.obs[\"organ_tissue\"] = \"blood\"\n"
     ]
    }
   ],
   "source": [
    "adata_subset.obs[\"organ_tissue\"] = \"blood\""
   ]
  },
  {
   "cell_type": "code",
   "execution_count": 8,
   "id": "415427ac-a9ef-436a-bcd2-a7ba2220cebe",
   "metadata": {},
   "outputs": [],
   "source": [
    "adata_subset.obs[\"compartment\"] = \"unknown\""
   ]
  },
  {
   "cell_type": "code",
   "execution_count": 9,
   "id": "19f56eeb-edbc-4fa0-8d93-2e3bc3d4de18",
   "metadata": {},
   "outputs": [],
   "source": [
    "adata_subset.obs[\"anatomical_information\"] = \"immune\""
   ]
  },
  {
   "cell_type": "code",
   "execution_count": 10,
   "id": "daff4510-90c1-4b99-ba67-40fef263b1af",
   "metadata": {},
   "outputs": [],
   "source": [
    "counts = adata_subset.obs[\"cell_ontology_class\"].value_counts()\n",
    "valid_groups = counts[counts > 1].index\n",
    "adata_subset = adata_subset[adata_subset.obs[\"cell_ontology_class\"].isin(valid_groups)]"
   ]
  },
  {
   "cell_type": "code",
   "execution_count": 11,
   "id": "ebd0897c-494e-4d6d-9699-f9a59ffda90a",
   "metadata": {},
   "outputs": [
    {
     "data": {
      "text/plain": [
       "View of AnnData object with n_obs × n_vars = 9996 × 24929\n",
       "    obs: 'sample_id', 'n_genes', 'n_genes_by_counts', 'total_counts', 'total_counts_mt', 'pct_counts_mt', 'cell_ontology_class', 'initial_clustering', 'Resample', 'Collection_Day', 'Sex', 'Age_interval', 'Swab_result', 'Status', 'Smoker', 'Status_on_day_collection', 'Status_on_day_collection_summary', 'Days_from_onset', 'Site', 'time_after_LPS', 'Worst_Clinical_Status', 'Outcome', 'patient_id', 'organ_tissue', 'compartment', 'anatomical_information'\n",
       "    var: 'feature_types'\n",
       "    uns: 'hvg', 'leiden', 'neighbors', 'pca', 'umap'\n",
       "    obsm: 'X_pca', 'X_pca_harmony', 'X_umap'\n",
       "    layers: 'raw'"
      ]
     },
     "execution_count": 11,
     "metadata": {},
     "output_type": "execute_result"
    }
   ],
   "source": [
    "adata_subset"
   ]
  },
  {
   "cell_type": "code",
   "execution_count": 12,
   "id": "da85d680-89f5-40f3-ba01-e018e6d43f02",
   "metadata": {},
   "outputs": [
    {
     "name": "stderr",
     "output_type": "stream",
     "text": [
      "/home/reddd3/groups/fslg_dnasc/envs/reddenv/lib/python3.13/site-packages/anndata/_core/anndata.py:1138: ImplicitModificationWarning: Trying to modify attribute `.obs` of view, initializing view as actual.\n",
      "  df[key] = c\n",
      "/home/reddd3/groups/fslg_dnasc/envs/reddenv/lib/python3.13/site-packages/anndata/_core/anndata.py:1138: ImplicitModificationWarning: Trying to modify attribute `.obs` of view, initializing view as actual.\n",
      "  df[key] = c\n",
      "/home/reddd3/groups/fslg_dnasc/envs/reddenv/lib/python3.13/site-packages/anndata/_core/anndata.py:1138: ImplicitModificationWarning: Trying to modify attribute `.obs` of view, initializing view as actual.\n",
      "  df[key] = c\n"
     ]
    }
   ],
   "source": [
    "adata_subset.write_h5ad(\"/nobackup/archive/grp/fslg_dnasc/reddDirectory/pinnacleTest/PINNACLE/data/raw/testCovidArray.h5ad\")"
   ]
  },
  {
   "cell_type": "code",
   "execution_count": null,
   "id": "5e737d01-82bd-46c4-ae3d-92262b4fd4e1",
   "metadata": {},
   "outputs": [],
   "source": []
  }
 ],
 "metadata": {
  "kernelspec": {
   "display_name": "Python 3 (ipykernel)",
   "language": "python",
   "name": "python3"
  },
  "language_info": {
   "codemirror_mode": {
    "name": "ipython",
    "version": 3
   },
   "file_extension": ".py",
   "mimetype": "text/x-python",
   "name": "python",
   "nbconvert_exporter": "python",
   "pygments_lexer": "ipython3",
   "version": "3.13.3"
  }
 },
 "nbformat": 4,
 "nbformat_minor": 5
}
